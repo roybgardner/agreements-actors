{
 "cells": [
  {
   "cell_type": "markdown",
   "id": "31e264f0",
   "metadata": {},
   "source": [
    "# Agreements in Actor Space"
   ]
  },
  {
   "cell_type": "code",
   "execution_count": 1,
   "id": "8798a4b4",
   "metadata": {},
   "outputs": [],
   "source": [
    "%run ./network_functions.py\n"
   ]
  },
  {
   "cell_type": "code",
   "execution_count": 2,
   "id": "8c7934c5",
   "metadata": {},
   "outputs": [],
   "source": [
    "data_path = './data/'\n",
    "nodes_file = 'node_table.csv'\n",
    "links_file = 'links_table.csv'\n",
    "agreements_dict = 'agreements_dict.json'\n",
    "\n",
    "data_dict = load_agreement_actor_data(nodes_file,links_file,agreements_dict,data_path)\n"
   ]
  },
  {
   "cell_type": "code",
   "execution_count": 3,
   "id": "d1cbb78e",
   "metadata": {},
   "outputs": [
    {
     "name": "stdout",
     "output_type": "stream",
     "text": [
      "dict_keys(['agreements_dict', 'dates_dict', 'nodes_data', 'nodes_header', 'links_data', 'links_header', 'agreement_vertices', 'actor_vertices', 'vertices_dict', 'color_map', 'matrix'])\n"
     ]
    }
   ],
   "source": [
    "print(data_dict.keys())"
   ]
  },
  {
   "cell_type": "code",
   "execution_count": null,
   "id": "fa19bd8b",
   "metadata": {},
   "outputs": [],
   "source": []
  },
  {
   "cell_type": "code",
   "execution_count": 6,
   "id": "10461690",
   "metadata": {},
   "outputs": [
    {
     "name": "stdout",
     "output_type": "stream",
     "text": [
      "1095\n",
      "(1642, 1095)\n"
     ]
    }
   ],
   "source": [
    "print(len(data_dict['actor_vertices']))\n",
    "\n",
    "print(data_dict['matrix'].shape)"
   ]
  },
  {
   "cell_type": "code",
   "execution_count": null,
   "id": "43ca414b",
   "metadata": {},
   "outputs": [],
   "source": []
  },
  {
   "cell_type": "markdown",
   "id": "a4239724",
   "metadata": {},
   "source": [
    "## KMeans"
   ]
  },
  {
   "cell_type": "code",
   "execution_count": 25,
   "id": "96cf0757",
   "metadata": {},
   "outputs": [
    {
     "data": {
      "text/plain": [
       "KMeans(n_clusters=152)"
      ]
     },
     "execution_count": 25,
     "metadata": {},
     "output_type": "execute_result"
    }
   ],
   "source": [
    "from sklearn.cluster import KMeans\n",
    "\n",
    "\n",
    "X = []\n",
    "for row in data_dict['matrix']:\n",
    "    X.append(row)\n",
    "    \n",
    "train_x\n",
    "    \n",
    "kmeans = KMeans(n_clusters=152)\n",
    "kmeans.fit(X)\n"
   ]
  },
  {
   "cell_type": "code",
   "execution_count": 19,
   "id": "1cde1e09",
   "metadata": {},
   "outputs": [
    {
     "name": "stdout",
     "output_type": "stream",
     "text": [
      "[ 5  8  6 ...  0 19 11]\n"
     ]
    }
   ],
   "source": [
    "print(kmeans.labels_)"
   ]
  },
  {
   "cell_type": "code",
   "execution_count": null,
   "id": "51b97df9",
   "metadata": {
    "scrolled": false
   },
   "outputs": [],
   "source": [
    "test_indices = [i for i,v in enumerate(kmeans.labels_) if v==12]\n",
    "\n",
    "for index in test_indices:\n",
    "    print(data_dict['vertices_dict'][data_dict['agreement_vertices'][index]])\n",
    "    print()"
   ]
  },
  {
   "cell_type": "code",
   "execution_count": null,
   "id": "ec4a8860",
   "metadata": {},
   "outputs": [],
   "source": []
  },
  {
   "cell_type": "markdown",
   "id": "fe9e4abf",
   "metadata": {},
   "source": [
    "## Graph-based - NOT SENSIBLE"
   ]
  },
  {
   "cell_type": "code",
   "execution_count": 34,
   "id": "b48e833f",
   "metadata": {},
   "outputs": [],
   "source": [
    "size = data_dict['matrix'].shape[0] + data_dict['matrix'].shape[1]\n",
    "adjacency_matrix = np.zeros((size,size))\n",
    "\n",
    "# Get the range of the bin matrix rows to generate the upper triangle\n",
    "# of the adjacency matrix\n",
    "row_index = 0\n",
    "col_index = data_dict['matrix'].shape[0]\n",
    "adjacency_matrix[row_index:row_index + data_dict['matrix'].shape[0],\\\n",
    "       col_index:col_index + data_dict['matrix'].shape[1]] = data_dict['matrix']\n",
    "# Add in the lower triangle\n",
    "adjacency_matrix = adjacency_matrix + adjacency_matrix.T    \n",
    "adj_vertices = []\n",
    "adj_vertices.extend(data_dict['agreement_vertices'])\n",
    "adj_vertices.extend(data_dict['actor_vertices'])\n"
   ]
  },
  {
   "cell_type": "code",
   "execution_count": 41,
   "id": "d8359165",
   "metadata": {
    "scrolled": false
   },
   "outputs": [
    {
     "name": "stdout",
     "output_type": "stream",
     "text": [
      "{0, 1, 2, 3, 4, 5, 6, 7, 8, 9, 10, 11, 12, 13, 14, 15, 16, 17, 18, 19, 20, 21, 22, 23, 24, 25, 26, 27, 28, 29, 30}\n",
      "['Agreement', '80', '', 'AGT_80', 'Framework-substantive, partial', 'Townsville Peace Agreement', '', 'Solomon Islands', 'SLB', '', '', '', '', '', 'AN AGREEMENT for the cessation of hostilities between the Malaita Eagle Force and the Isatabu Freedom Movement', '2000-10-15', '2000.0', '10.0', '15.0', 'October', '82.0', 'Solomon Islands peace process', '', 'https://www.peaceagreements.org/view/80', 'https://www.peaceagreements.org/viewmasterdocument/80']\n",
      "\n",
      "['Actor', '143', 'ARM', 'ARM_143', 'Armed Organization', 'Malaita Eagle Force', 'MEF', 'Solomon Islands', 'SLB', '', '', '', '', '', 'Malaita Eagle Force (MEF) are an Armed Organization, based in Solomon Islands. ', '', '', '', '', '', '', '', '', '', '']\n",
      "\n"
     ]
    }
   ],
   "source": [
    "from scipy.sparse import csr_matrix\n",
    "from scipy.sparse.csgraph import connected_components\n",
    "\n",
    "matrix = np.triu(adjacency_matrix,k=1)\n",
    "graph = csr_matrix(matrix)\n",
    "_,labels = connected_components(csgraph=graph, directed=False,return_labels=True)\n",
    "\n",
    "print(set(labels))\n",
    "test_indices = [i for i,v in enumerate(labels) if v==2]\n",
    "\n",
    "for index in test_indices:\n",
    "    print(data_dict['vertices_dict'][adj_vertices[index]])\n",
    "    print()\n"
   ]
  },
  {
   "cell_type": "code",
   "execution_count": null,
   "id": "e1d15549",
   "metadata": {},
   "outputs": [],
   "source": []
  },
  {
   "cell_type": "code",
   "execution_count": null,
   "id": "323d5828",
   "metadata": {},
   "outputs": [],
   "source": []
  }
 ],
 "metadata": {
  "kernelspec": {
   "display_name": "Python 3 (ipykernel)",
   "language": "python",
   "name": "python3"
  },
  "language_info": {
   "codemirror_mode": {
    "name": "ipython",
    "version": 3
   },
   "file_extension": ".py",
   "mimetype": "text/x-python",
   "name": "python",
   "nbconvert_exporter": "python",
   "pygments_lexer": "ipython3",
   "version": "3.9.15"
  }
 },
 "nbformat": 4,
 "nbformat_minor": 5
}
