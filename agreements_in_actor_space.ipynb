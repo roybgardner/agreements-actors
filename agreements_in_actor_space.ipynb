{
 "cells": [
  {
   "cell_type": "markdown",
   "id": "31e264f0",
   "metadata": {},
   "source": [
    "# Agreements in Actor Space"
   ]
  },
  {
   "cell_type": "code",
   "execution_count": 1,
   "id": "8798a4b4",
   "metadata": {},
   "outputs": [],
   "source": [
    "%run ./network_functions.py\n"
   ]
  },
  {
   "cell_type": "code",
   "execution_count": 2,
   "id": "8c7934c5",
   "metadata": {},
   "outputs": [],
   "source": [
    "data_path = './data/'\n",
    "nodes_file = 'node_table.csv'\n",
    "links_file = 'links_table.csv'\n",
    "agreements_dict = 'agreements_dict.json'\n",
    "\n",
    "data_dict = load_agreement_actor_data(nodes_file,links_file,agreements_dict,data_path)\n"
   ]
  },
  {
   "cell_type": "code",
   "execution_count": 3,
   "id": "d1cbb78e",
   "metadata": {},
   "outputs": [
    {
     "name": "stdout",
     "output_type": "stream",
     "text": [
      "dict_keys(['agreements_dict', 'dates_dict', 'nodes_data', 'nodes_header', 'links_data', 'links_header', 'agreement_vertices', 'actor_vertices', 'vertices_dict', 'color_map', 'matrix'])\n"
     ]
    }
   ],
   "source": [
    "print(data_dict.keys())"
   ]
  },
  {
   "cell_type": "code",
   "execution_count": null,
   "id": "fa19bd8b",
   "metadata": {},
   "outputs": [],
   "source": []
  },
  {
   "cell_type": "code",
   "execution_count": 3,
   "id": "10461690",
   "metadata": {},
   "outputs": [
    {
     "name": "stdout",
     "output_type": "stream",
     "text": [
      "1095\n",
      "(1642, 1095)\n"
     ]
    }
   ],
   "source": [
    "print(len(data_dict['actor_vertices']))\n",
    "\n",
    "print(data_dict['matrix'].shape)"
   ]
  },
  {
   "cell_type": "code",
   "execution_count": null,
   "id": "43ca414b",
   "metadata": {},
   "outputs": [],
   "source": []
  },
  {
   "cell_type": "markdown",
   "id": "a4239724",
   "metadata": {},
   "source": [
    "## KMeans"
   ]
  },
  {
   "cell_type": "code",
   "execution_count": 5,
   "id": "96cf0757",
   "metadata": {},
   "outputs": [
    {
     "data": {
      "text/plain": [
       "KMeans(n_clusters=152)"
      ]
     },
     "execution_count": 5,
     "metadata": {},
     "output_type": "execute_result"
    }
   ],
   "source": [
    "from sklearn.cluster import KMeans\n",
    "\n",
    "\n",
    "X = []\n",
    "for row in data_dict['matrix']:\n",
    "    X.append(row)\n",
    "    \n",
    "    \n",
    "kmeans = KMeans(n_clusters=152)\n",
    "kmeans.fit(X)\n"
   ]
  },
  {
   "cell_type": "code",
   "execution_count": 6,
   "id": "1cde1e09",
   "metadata": {},
   "outputs": [
    {
     "name": "stdout",
     "output_type": "stream",
     "text": [
      "[ 1  7  7 ... 65 39 66]\n"
     ]
    }
   ],
   "source": [
    "print(kmeans.labels_)"
   ]
  },
  {
   "cell_type": "code",
   "execution_count": 7,
   "id": "51b97df9",
   "metadata": {
    "scrolled": false
   },
   "outputs": [
    {
     "name": "stdout",
     "output_type": "stream",
     "text": [
      "['Agreement', '987', '', 'AGT_987', 'Framework-substantive, partial', 'Annex V, Protocol on Economic Relations, Israeli\\xad Palestinian Interim Agreement on The West Bank and the Gaza Strip (Oslo II)', '', 'Israel/Palestine', 'ISR', '', '', '', '', '', 'The annex details the jurisdictions and limitations on taxation of Palestinian and Israeli inhabitants in both Israel and Palestine, how cross border taxation functions, the transfer of funds from Israel for administration, etc. ', '1995-09-28', '1995.0', '9.0', '28.0', 'September', '63.0', 'Israel-Palestine peace process', '', 'https://www.peaceagreements.org/view/987', 'https://www.peaceagreements.org/viewmasterdocument/987']\n",
      "\n",
      "['Agreement', '984', '', 'AGT_984', 'Framework-substantive, partial', 'Annex II, Protocol Concerning Elections, Israeli Palestinian Interim Agreement on The West Bank and the Gaza Strip (Oslo II)', '', 'Israel/Palestine', 'ISR', '', '', '', '', '', \"Annex dealing with elections for the Palestinian Council and the Ra'ees [President/head].\", '1995-09-28', '1995.0', '9.0', '28.0', 'September', '63.0', 'Israel-Palestine peace process', '', 'https://www.peaceagreements.org/view/984', 'https://www.peaceagreements.org/viewmasterdocument/984']\n",
      "\n",
      "['Agreement', '985', '', 'AGT_985', 'Framework-substantive, partial', 'Annex III, Concerning Civil Affairs, Israeli\\xad Palestinian Interim Agreement on The West Bank and the Gaza Strip (Oslo II)', '', 'Israel/Palestine', 'ISR', '', '', '', '', '', 'This appendix to the Oslo II accords contains provisions regarding civil affairs such as transferal of government to the Palestinian Council; segments of responsibility and the division of the West Bank into the Areas A, B, and C, among other aspects.', '1995-09-28', '1995.0', '9.0', '28.0', 'September', '63.0', 'Israel-Palestine peace process', '', 'https://www.peaceagreements.org/view/985', 'https://www.peaceagreements.org/viewmasterdocument/985']\n",
      "\n",
      "['Agreement', '410', '', 'AGT_410', 'Framework-substantive, partial', \"Israeli-Palestinian Interim Agreement on the West Bank and the Gaza Strip ('Oslo II')\", '', 'Israel/Palestine', 'ISR', '', '', '', '', '', '', '1995-09-28', '1995.0', '9.0', '28.0', 'September', '63.0', 'Israel-Palestine peace process', '', 'https://www.peaceagreements.org/view/410', 'https://www.peaceagreements.org/viewmasterdocument/410']\n",
      "\n",
      "['Agreement', '33', '', 'AGT_33', 'Pre-negotiation', 'Letter of Invitation to Madrid Peace Conference', '', 'Israel/(Palestine)', 'ISR', '', '', '', '', '', 'The breakup of the Soviet Union and the Gulf War reshaped the basic political order of the Middle East. In an attempt to take advantage of this change, US Secretary of State James Baker made eight trips to the region in the eight months following the Gulf War. The Madrid Invitation, inviting Israel, Syria, Lebanon, Jordan and the Palestinians to an opening conference represents the result of this shuttle diplomacy. The invitation, an outcome of compromises by all sides, details the structure of the Madrid process: \\n\\nAn opening conference having no power to impose solutions \\nBilateral talks with the Arab states bordering Israel, \\nTalks with the Palestinians on 5-year interim self-rule, to be followed by talks on the permanent status \\nMultilateral talks on key regional issues, like refugees. \\nThe following is the complete text of the invitation to the Madrid Peace Conference on October 30, 1991, jointly issued by the U.S. and the Soviet Union: The co-sponsors believe that those negotiations should focus on region-wide issues of water, refugee issues, environment, economic development, and other subjects of mutual interest.', '1991-10-30', '1991.0', '10.0', '30.0', 'October', '63.0', 'Israel-Palestine peace process', '', 'https://www.peaceagreements.org/view/33', 'https://www.peaceagreements.org/viewmasterdocument/33']\n",
      "\n",
      "['Agreement', '989', '', 'AGT_989', 'Framework-substantive, partial', 'Annex VII, Release of Palestinian Prisoners and Detainees, Israeli\\xad Palestinian Interim Agreement on The West Bank and the Gaza Strip (Oslo II)', '', 'Israel/Palestine', 'ISR', '', '', '', '', '', 'Annex to the Oslo II Agreement containing provisions and qualifying factors for prisoner releases.', '1995-09-28', '1995.0', '9.0', '28.0', 'September', '63.0', 'Israel-Palestine peace process', '', 'https://www.peaceagreements.org/view/989', 'https://www.peaceagreements.org/viewmasterdocument/989']\n",
      "\n",
      "['Agreement', '988', '', 'AGT_988', 'Framework-substantive, partial', 'Annex VI, Protocol Concerning Israeli \\xadPalestinian Cooperation Programs, Israeli\\xad Palestinian Interim Agreement on The West Bank and the Gaza Strip (Oslo II)', '', 'Israel/Palestine', 'ISR', '', '', '', '', '', 'Annex to Oslo II Agreement outlining areas of cooperation between Israel and Palestine including cooperation on education and training as well as cultural and social exchanges.', '1995-09-28', '1995.0', '9.0', '28.0', 'September', '63.0', 'Israel-Palestine peace process', '', 'https://www.peaceagreements.org/view/988', 'https://www.peaceagreements.org/viewmasterdocument/988']\n",
      "\n",
      "['Agreement', '587', '', 'AGT_587', 'Implementation', 'Sharm El Sheikh Memorandum: Implementation Timeline of Outstanding Commitments of Agreements Signed and the Resumption of Permanent Status Negotiations', '', 'Israel/Palestine', 'ISR', '', '', '', '', '', 'The Parties commit to resume permanent status negotiations in an accelerated manner, review the Hebron situation, and increase the possibilities of access and mobility including the enabling of construction on the Gaza Sea Port.', '1999-09-04', '1999.0', '9.0', '4.0', 'September', '63.0', 'Israel-Palestine peace process', '', 'https://www.peaceagreements.org/view/587', 'https://www.peaceagreements.org/viewmasterdocument/587']\n",
      "\n",
      "['Agreement', '983', '', 'AGT_983', 'Framework-substantive, partial', 'Annex I, Protocol Concerning Redeployment and Security Arrangements, Israeli\\xad Palestinian Interim Agreement on The West Bank and the Gaza Strip (Oslo II)', '', 'Israel/Palestine', 'ISR', '', '', '', '', '', \"The Oslo II Accords created the areas of A, B, and C. The PA was granted limited authority in the A and B Areas, whereas Israel maintained a military presence in Area C, airspace and ocean territories. Annex I focuses on security arrangements including the redeployment of Israeli forces; the administration of security forces in Palestine; setting up 'liason' and 'cooperation' committees on the district and regional levels; outlining joint security arrangements including Joint Mobile Units; outlining the jurisdiction of Israeli and Palestinian security forces, arranging the armament of Palestinian police; detailing the protocols for border crossings, among other aspects.\", '1995-09-28', '1995.0', '9.0', '28.0', 'September', '63.0', 'Israel-Palestine peace process', '', 'https://www.peaceagreements.org/view/983', 'https://www.peaceagreements.org/viewmasterdocument/983']\n",
      "\n",
      "['Agreement', '986', '', 'AGT_986', 'Framework-substantive, partial', 'Annex IV, Protocol Concerning Legal Affairs, Israeli\\xad Palestinian Interim Agreement on The West Bank and the Gaza Strip (Oslo II)', '', 'Israel/Palestine', 'ISR', '', '', '', '', '', 'Annex to Oslo II Process detailing the protocols and jurisdictions of Israeli/Palestinian police and courts, including provisions on outlining protocol on nationality, cross-border crimes and protocol in regards to witnesses in Palestinian and Israeli territory.', '1995-09-28', '1995.0', '9.0', '28.0', 'September', '63.0', 'Israel-Palestine peace process', '', 'https://www.peaceagreements.org/view/986', 'https://www.peaceagreements.org/viewmasterdocument/986']\n",
      "\n",
      "['Agreement', '36', '', 'AGT_36', 'Pre-negotiation', 'Protocol on Economic Relations', '', 'Israel/Palestine', 'ISR', '', '', '', '', '', 'to be incorporated into Gaza-Jericho agmt, and take effect on its signing. Parties agree to establish Joint Economic Committee\\n\\nAgreement to be incorporated into the Gaza-Jericho Agreement, and outlines the economic relations between Israel and Palestine, including the establishment of a Joint Economic Committeee, the establishment of import/export duties, monetary and financial duties, taxation, local production, labor regulation, agricultural production, industry, tourism and insurance.', '1994-04-29', '1994.0', '4.0', '29.0', 'April', '63.0', 'Israel-Palestine peace process', '', 'https://www.peaceagreements.org/view/36', 'https://www.peaceagreements.org/viewmasterdocument/36']\n",
      "\n"
     ]
    }
   ],
   "source": [
    "test_indices = [i for i,v in enumerate(kmeans.labels_) if v==12]\n",
    "\n",
    "for index in test_indices:\n",
    "    print(data_dict['vertices_dict'][data_dict['agreement_vertices'][index]])\n",
    "    print()"
   ]
  },
  {
   "cell_type": "code",
   "execution_count": null,
   "id": "ec4a8860",
   "metadata": {},
   "outputs": [],
   "source": []
  },
  {
   "cell_type": "markdown",
   "id": "fe9e4abf",
   "metadata": {},
   "source": [
    "## Graph-based - NOT SENSIBLE"
   ]
  },
  {
   "cell_type": "code",
   "execution_count": 34,
   "id": "b48e833f",
   "metadata": {},
   "outputs": [],
   "source": [
    "size = data_dict['matrix'].shape[0] + data_dict['matrix'].shape[1]\n",
    "adjacency_matrix = np.zeros((size,size))\n",
    "\n",
    "# Get the range of the bin matrix rows to generate the upper triangle\n",
    "# of the adjacency matrix\n",
    "row_index = 0\n",
    "col_index = data_dict['matrix'].shape[0]\n",
    "adjacency_matrix[row_index:row_index + data_dict['matrix'].shape[0],\\\n",
    "       col_index:col_index + data_dict['matrix'].shape[1]] = data_dict['matrix']\n",
    "# Add in the lower triangle\n",
    "adjacency_matrix = adjacency_matrix + adjacency_matrix.T    \n",
    "adj_vertices = []\n",
    "adj_vertices.extend(data_dict['agreement_vertices'])\n",
    "adj_vertices.extend(data_dict['actor_vertices'])\n"
   ]
  },
  {
   "cell_type": "code",
   "execution_count": 41,
   "id": "d8359165",
   "metadata": {
    "scrolled": false
   },
   "outputs": [
    {
     "name": "stdout",
     "output_type": "stream",
     "text": [
      "{0, 1, 2, 3, 4, 5, 6, 7, 8, 9, 10, 11, 12, 13, 14, 15, 16, 17, 18, 19, 20, 21, 22, 23, 24, 25, 26, 27, 28, 29, 30}\n",
      "['Agreement', '80', '', 'AGT_80', 'Framework-substantive, partial', 'Townsville Peace Agreement', '', 'Solomon Islands', 'SLB', '', '', '', '', '', 'AN AGREEMENT for the cessation of hostilities between the Malaita Eagle Force and the Isatabu Freedom Movement', '2000-10-15', '2000.0', '10.0', '15.0', 'October', '82.0', 'Solomon Islands peace process', '', 'https://www.peaceagreements.org/view/80', 'https://www.peaceagreements.org/viewmasterdocument/80']\n",
      "\n",
      "['Actor', '143', 'ARM', 'ARM_143', 'Armed Organization', 'Malaita Eagle Force', 'MEF', 'Solomon Islands', 'SLB', '', '', '', '', '', 'Malaita Eagle Force (MEF) are an Armed Organization, based in Solomon Islands. ', '', '', '', '', '', '', '', '', '', '']\n",
      "\n"
     ]
    }
   ],
   "source": [
    "from scipy.sparse import csr_matrix\n",
    "from scipy.sparse.csgraph import connected_components\n",
    "\n",
    "matrix = np.triu(adjacency_matrix,k=1)\n",
    "graph = csr_matrix(matrix)\n",
    "_,labels = connected_components(csgraph=graph, directed=False,return_labels=True)\n",
    "\n",
    "print(set(labels))\n",
    "test_indices = [i for i,v in enumerate(labels) if v==2]\n",
    "\n",
    "for index in test_indices:\n",
    "    print(data_dict['vertices_dict'][adj_vertices[index]])\n",
    "    print()\n"
   ]
  },
  {
   "cell_type": "code",
   "execution_count": null,
   "id": "e1d15549",
   "metadata": {},
   "outputs": [],
   "source": []
  },
  {
   "cell_type": "code",
   "execution_count": null,
   "id": "323d5828",
   "metadata": {},
   "outputs": [],
   "source": []
  }
 ],
 "metadata": {
  "kernelspec": {
   "display_name": "Python 3 (ipykernel)",
   "language": "python",
   "name": "python3"
  },
  "language_info": {
   "codemirror_mode": {
    "name": "ipython",
    "version": 3
   },
   "file_extension": ".py",
   "mimetype": "text/x-python",
   "name": "python",
   "nbconvert_exporter": "python",
   "pygments_lexer": "ipython3",
   "version": "3.9.13"
  }
 },
 "nbformat": 4,
 "nbformat_minor": 5
}
