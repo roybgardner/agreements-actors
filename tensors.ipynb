{
 "cells": [
  {
   "cell_type": "markdown",
   "id": "50612eb4",
   "metadata": {},
   "source": [
    "# Time Series Analysis using Tensors\n",
    "\n",
    "## Model\n",
    "\n",
    "### Chrono\n",
    "\n",
    "An ordered list of dates in YYYYMMDD string format.\n",
    "\n",
    "### Vertices\n",
    "\n",
    "- Agreements\n",
    "- Actors\n",
    "\n",
    "### Edges\n",
    "\n",
    "- Unweighed. Matrix cell values = 1\n",
    "\n",
    "### Tensor\n",
    "\n",
    "A stack of biadjacency matrices one for each date.\n",
    "\n",
    "Each dates's matrix is converted to a sparse matrix: `sparse_matrix = scipy.sparse.csc_matrix(matrix)` and added to a stack. The tensor is created as follows `tensor = scipy.sparse.vstack(stack)` and then serialised to disk `scipy.sparse.save_npz(model_path + 'sparse_tensor.npz', tensor)`.\n",
    "\n",
    "See: `./model/sparse_tensor.npz`\n"
   ]
  },
  {
   "cell_type": "code",
   "execution_count": 1,
   "id": "f986717e",
   "metadata": {},
   "outputs": [],
   "source": [
    "__author__      = 'Roy Gardner'\n",
    "\n",
    "%run ./network_functions.py\n"
   ]
  },
  {
   "cell_type": "code",
   "execution_count": null,
   "id": "0aa5a618",
   "metadata": {},
   "outputs": [],
   "source": []
  },
  {
   "cell_type": "markdown",
   "id": "a6d18f18",
   "metadata": {},
   "source": [
    "## Load the agreement-actor data\n",
    "\n",
    "- Load data into a binary-valued relation matrix with agreements in rows and actors in columns\n",
    "- Matrix values are zero except where a relation between an agreement and an actor exists where the value is one\n",
    "- Apart from the matrix other data are extracted or computed\n",
    "- All data are stored in data_dict\n"
   ]
  },
  {
   "cell_type": "code",
   "execution_count": 3,
   "id": "b29ce47a",
   "metadata": {},
   "outputs": [],
   "source": [
    "\n",
    "data_path = './data/'\n",
    "nodes_file = 'node_table.csv'\n",
    "links_file = 'links_table.csv'\n",
    "agreements_dict = 'agreements_dict.json'\n",
    "\n",
    "data_dict = load_agreement_actor_data(nodes_file,links_file,agreements_dict,data_path)\n"
   ]
  },
  {
   "cell_type": "code",
   "execution_count": null,
   "id": "b1be18c5",
   "metadata": {},
   "outputs": [],
   "source": []
  },
  {
   "cell_type": "markdown",
   "id": "86e5083c",
   "metadata": {},
   "source": [
    "## Explore dates\n",
    "\n",
    "- Get full list and counts"
   ]
  },
  {
   "cell_type": "code",
   "execution_count": 12,
   "id": "dc1c513b",
   "metadata": {},
   "outputs": [
    {
     "name": "stdout",
     "output_type": "stream",
     "text": [
      "(1642, 1095)\n",
      "1349\n",
      "9\n"
     ]
    }
   ],
   "source": [
    "print(data_dict['matrix'].shape)\n",
    "\n",
    "dates_dict = {}\n",
    "\n",
    "for agreement_id in data_dict['agreement_vertices']:\n",
    "    date = ''.join(get_agreement_date(agreement_id,data_dict).strip().split('-'))\n",
    "    if date in dates_dict:\n",
    "        dates_dict[date] += 1\n",
    "    else:\n",
    "        dates_dict[date] = 1\n",
    "        \n",
    "print(len(dates_dict))\n",
    "\n",
    "print(max(list(dates_dict.values())))\n"
   ]
  },
  {
   "cell_type": "code",
   "execution_count": null,
   "id": "99926daa",
   "metadata": {},
   "outputs": [],
   "source": []
  }
 ],
 "metadata": {
  "kernelspec": {
   "display_name": "Python 3 (ipykernel)",
   "language": "python",
   "name": "python3"
  },
  "language_info": {
   "codemirror_mode": {
    "name": "ipython",
    "version": 3
   },
   "file_extension": ".py",
   "mimetype": "text/x-python",
   "name": "python",
   "nbconvert_exporter": "python",
   "pygments_lexer": "ipython3",
   "version": "3.9.13"
  }
 },
 "nbformat": 4,
 "nbformat_minor": 5
}
