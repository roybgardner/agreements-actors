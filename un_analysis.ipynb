{
 "cells": [
  {
   "cell_type": "markdown",
   "metadata": {},
   "source": [
    "# UN Analysis\n",
    "\n",
    "Analysis of UN actors in agreement-actor networks.\n"
   ]
  },
  {
   "cell_type": "code",
   "execution_count": null,
   "metadata": {},
   "outputs": [],
   "source": [
    "__author__      = 'Roy Gardner'\n",
    "\n",
    "%run ./network_functions.py\n"
   ]
  },
  {
   "cell_type": "code",
   "execution_count": null,
   "metadata": {},
   "outputs": [],
   "source": []
  },
  {
   "cell_type": "markdown",
   "metadata": {},
   "source": [
    "## Load the agreement-actor data\n",
    "\n",
    "- Load data into a binary-valued relation matrix (BVRM) with agreements in rows and actors in columns\n",
    "- Matrix values are zero except where a relation between an agreement and an actor exists where the value is one\n",
    "- Apart from the matrix other data are extracted or computed\n",
    "- All data are stored in data_dict\n"
   ]
  },
  {
   "cell_type": "code",
   "execution_count": null,
   "metadata": {},
   "outputs": [],
   "source": [
    "\n",
    "data_path = './data/'\n",
    "nodes_file = 'node_table.csv'\n",
    "links_file = 'links_table.csv'\n",
    "agreements_dict = 'agreements_dict.json'\n",
    "\n",
    "data_dict = load_agreement_actor_data(nodes_file,links_file,agreements_dict,data_path)\n",
    "print(data_dict.keys())\n"
   ]
  },
  {
   "cell_type": "code",
   "execution_count": null,
   "metadata": {},
   "outputs": [],
   "source": [
    "print(len(data_dict['agreement_vertices']))\n",
    "print(len(data_dict['actor_vertices']))\n",
    "\n"
   ]
  },
  {
   "cell_type": "markdown",
   "metadata": {},
   "source": [
    "## Collect UN actor indices and IDs"
   ]
  },
  {
   "cell_type": "code",
   "execution_count": null,
   "metadata": {},
   "outputs": [],
   "source": [
    "\n",
    "un_actors_list = []\n",
    "\n",
    "for actor_index,actor_id in enumerate(data_dict['actor_vertices']):\n",
    "    if len(actor_id) == 0:\n",
    "        continue\n",
    "    if not actor_id.startswith('IGO_') and not actor_id.startswith('COA_'):\n",
    "        continue\n",
    "    actor_data = data_dict['vertices_dict'][actor_id]\n",
    "    actor_name = actor_data[data_dict['nodes_header'].index('node_name')]\n",
    "    if 'United Nations' in actor_name or actor_name.startswith('UN') or ' UN' in actor_name:\n",
    "        un_actors_list.append((actor_index,actor_id,actor_name))\n",
    "\n",
    "un_actors_list = sorted(un_actors_list,key=lambda t:t[2])\n",
    "\n",
    "# Print ready for insertion in LaTex document\n",
    "latex = False\n",
    "if latex:\n",
    "    for t in un_actors_list:\n",
    "        s = t[2] + ' & ' + '\\\\_'.join(t[1].split('_')) + ' \\\\\\\\'\n",
    "        print(s)\n",
    "        print('\\\\hline')\n",
    "    "
   ]
  },
  {
   "cell_type": "code",
   "execution_count": null,
   "metadata": {},
   "outputs": [],
   "source": []
  },
  {
   "cell_type": "markdown",
   "metadata": {},
   "source": [
    "## Get UN actor biadjacency matrices\n",
    "\n",
    "There are two matrices:\n",
    "\n",
    "1. UN-only matrix: \n",
    "    - Rows are agreements that have at least one UN signatory\n",
    "    - Columns are UN actors\n",
    "2. UN actors and non-UN co-signatories matrix:\n",
    "    - Rows are agreements that have at least one UN signatory (as above)\n",
    "    - Columns are all the actors who are signatories to the row agreements\n",
    "\n",
    "The indices of the agreements and actors that constitute the above matrices are:\n",
    "\n",
    "- agreement_indices: Indices into `data_dict['agreement_vertices']` and therefore rows of `data_dict['matrix']`\n",
    "- un_indices: Indices into `data_dict['actor_vertices']` and therefore columns of `data_dict['matrix']` for UN actors only\n",
    "- actor_indices: Indices into `data_dict['actor_vertices']` and therefore columns of `data_dict['matrix']` for UN actors and co-signatories\n"
   ]
  },
  {
   "cell_type": "code",
   "execution_count": null,
   "metadata": {},
   "outputs": [],
   "source": [
    "un_indices = [t[0] for t in un_actors_list]\n",
    "\n",
    "matrix = data_dict['matrix']\n",
    "\n",
    "# Reduce the matrix to UN actor columns only\n",
    "reduced_matrix = matrix[np.ix_(range(0,matrix.shape[0]),un_indices)]\n",
    "# Get indices of agreement row containing at least one non-zero value, i.e., agreements signed by at least\n",
    "# one of the UN actors\n",
    "indices = np.nonzero(reduced_matrix)\n",
    "agreement_indices = list(set(indices[0]))\n",
    "\n",
    "# This is the UN actors only matrix\n",
    "un_matrix = matrix[np.ix_(agreement_indices,un_indices)]\n",
    "print(un_matrix.shape)\n",
    "\n",
    "# Reduce the complete matrix to the UN agreement rows and all actors\n",
    "reduced_matrix = matrix[np.ix_(agreement_indices,range(0,matrix.shape[1]))]\n",
    "\n",
    "# Get indices of all non-zero actor columns for the agreement rows, i.e., UN actors and co-signatories\n",
    "indices = np.nonzero(reduced_matrix)\n",
    "actor_indices = list(set(indices[1]))\n",
    "\n",
    "# This is the UN actors and non-UN co-signatories matrix\n",
    "un_cosign_matrix = matrix[np.ix_(agreement_indices,actor_indices)]\n",
    "print(un_cosign_matrix.shape)\n",
    "print()\n",
    "\n",
    "print('There are',un_matrix.shape[0],'agreements signed by at least one of',un_matrix.shape[1],\\\n",
    "      'UN actors, and one or more of',un_cosign_matrix.shape[1] - un_matrix.shape[1],'non-UN actors')"
   ]
  },
  {
   "cell_type": "code",
   "execution_count": null,
   "metadata": {},
   "outputs": [],
   "source": []
  },
  {
   "cell_type": "markdown",
   "metadata": {},
   "source": [
    "### Analysis: UN-only"
   ]
  },
  {
   "cell_type": "code",
   "execution_count": null,
   "metadata": {
    "scrolled": false
   },
   "outputs": [],
   "source": [
    "# Get UN actor labels\n",
    "\n",
    "co_matrices = get_cooccurrence_matrices(un_matrix)\n",
    "# Upper triangle of actor co-occurence matrix\n",
    "actor_upper = np.triu(co_matrices[0],k=1)\n",
    "\n",
    "\n",
    "# Co-occurrence diagonal is the columns marginal of the UN-only biadjacency matrix\n",
    "\n",
    "diag = np.diag(co_matrices[0])\n",
    "a = list(zip(diag,un_actors_list))\n",
    "a = sorted(a,key=lambda t:t[0],reverse=True)\n",
    "diag = [t[0] for t in a]\n",
    "label_list = [t[1][2] + ' (' + t[1][1] + ' )' for t in a]\n",
    "\n",
    "# Number of agreements signed\n",
    "latex = False\n",
    "if latex:\n",
    "    for t in a:\n",
    "        s = t[1][2] + ' & ' + str(t[0]) + ' \\\\\\\\'\n",
    "        print(s)\n",
    "        print('\\\\hline')\n",
    "\n",
    "f = plt.figure(figsize=(8,8))\n",
    "plt.barh(range(0,len(diag)),diag)\n",
    "plt.yticks(range(0,len(label_list)),label_list,fontsize='large')\n",
    "plt.xticks(fontsize='x-large')\n",
    "plt.xlabel('Number of agreements signed — all peace processes',fontsize='x-large')\n",
    "plt.gca().invert_yaxis()\n",
    "plt.show()\n",
    "\n",
    "# Heat map\n",
    "f = plt.figure(figsize=(8,8))\n",
    "plt.imshow(actor_upper,cmap=plt.cm.Blues)\n",
    "plt.xticks(range(0,len(label_list)),label_list,rotation=90,fontsize='large')\n",
    "plt.yticks(range(0,len(label_list)),label_list,fontsize='large')\n",
    "cbar = plt.colorbar()\n",
    "cbar.set_label('Number of agreements',rotation=270,labelpad=15,fontsize='x-large')\n",
    "plt.title('UN-UN co-signatories',fontsize='x-large')\n",
    "plt.show()\n",
    "\n",
    "# Network diagram\n",
    "display_comatrix_as_networkx_graph(co_matrices[0],un_indices,data_dict['actor_vertices'],data_dict,\\\n",
    "                                   title='UN-UN co-signatories network')\n",
    "\n",
    "rc = np.nonzero(actor_upper) # Row and column indices of non-zero pairs\n",
    "z = list(zip(list(rc[0]),list(rc[1])))\n",
    "scores = [(un_actors_list[t[0]][1],un_actors_list[t[0]][2],\\\n",
    "           un_actors_list[t[1]][1],un_actors_list[t[1]][2],actor_upper[t[0]][t[1]]) for t in z]\n",
    "scores = sorted(scores,key=lambda t:t[4],reverse=True)\n",
    "\n",
    "# Output for LaTex document\n",
    "latex = False\n",
    "if latex:\n",
    "    for t in scores:\n",
    "        s = t[1] + ' (' + '\\\\_'.join(t[0].split('_')) + ') & ' +\\\n",
    "            t[3] + ' (' + '\\\\_'.join(t[2].split('_')) + ') & ' + str(t[4]) + ' \\\\\\\\'\n",
    "        print(s)\n",
    "        print('\\\\hline')\n",
    "\n",
    "# Locate the singletons\n",
    "singleton_indices = [index for index,row in enumerate(actor_upper) if np.all(row == 0) and\\\n",
    "                        np.all(actor_upper[:,index] == 0)]\n",
    "latex = True\n",
    "if latex:\n",
    "    for index in singleton_indices:\n",
    "        singleton_data = un_actors_list[index]\n",
    "        s = singleton_data[2] + ' (' + '\\\\_'.join(singleton_data[1].split('_')) + ')' + ' \\\\\\\\'\n",
    "        print(s)\n",
    "        print('\\\\hline')\n",
    "\n"
   ]
  },
  {
   "cell_type": "code",
   "execution_count": null,
   "metadata": {},
   "outputs": [],
   "source": []
  },
  {
   "cell_type": "markdown",
   "metadata": {},
   "source": [
    "### Analysis: UN and non-UN co-signatories"
   ]
  },
  {
   "cell_type": "code",
   "execution_count": null,
   "metadata": {
    "scrolled": false
   },
   "outputs": [],
   "source": [
    "co_matrices = get_cooccurrence_matrices(un_cosign_matrix)\n",
    "actor_upper = np.triu(co_matrices[0],k=1)\n",
    "\n",
    "\n",
    "un_cosign_actor_list = []\n",
    "for actor_index in actor_indices:\n",
    "    actor_id = data_dict['actor_vertices'][actor_index]\n",
    "    actor_data = data_dict['vertices_dict'][actor_id]\n",
    "    actor_name = actor_data[data_dict['nodes_header'].index('node_name')]\n",
    "    un_cosign_actor_list.append((actor_index,actor_id,actor_name))\n",
    "\n",
    "diag = np.diag(co_matrices[0])\n",
    "a = list(zip(diag,un_cosign_actor_list))\n",
    "a = sorted(a,key=lambda t:t[0],reverse=True)\n",
    "diag = [t[0] for t in a]\n",
    "label_list = [t[1][2] + ' (' + t[1][1] + ' )' for t in a[0:20]]\n",
    "\n",
    "f = plt.figure(figsize=(8,8))\n",
    "plt.barh(range(0,len(diag[0:20])),diag[0:20])\n",
    "plt.yticks(range(0,len(label_list)),label_list)\n",
    "plt.xlabel('Number of agreements signed by UN and UN co-signatories — all peace processes')\n",
    "plt.gca().invert_yaxis()\n",
    "plt.show()\n",
    "\n",
    "rc = np.nonzero(actor_upper) # Row and column indices of non-zero pairs\n",
    "z = list(zip(list(rc[0]),list(rc[1])))\n",
    "scores = [(un_cosign_actor_list[t[0]][2],un_cosign_actor_list[t[1]][2],actor_upper[t[0]][t[1]]) for t in z if\\\n",
    "             un_cosign_actor_list[t[0]][0] in un_indices or un_cosign_actor_list[t[1]][0] in un_indices]\n",
    "scores = sorted(scores,key=lambda t:t[2],reverse=True)\n",
    "print(len(scores))\n",
    "for t in scores[0:40]:\n",
    "    print(t)\n"
   ]
  },
  {
   "cell_type": "code",
   "execution_count": null,
   "metadata": {},
   "outputs": [],
   "source": []
  },
  {
   "cell_type": "code",
   "execution_count": null,
   "metadata": {},
   "outputs": [],
   "source": []
  },
  {
   "cell_type": "code",
   "execution_count": null,
   "metadata": {},
   "outputs": [],
   "source": []
  },
  {
   "cell_type": "code",
   "execution_count": null,
   "metadata": {},
   "outputs": [],
   "source": []
  },
  {
   "cell_type": "code",
   "execution_count": null,
   "metadata": {},
   "outputs": [],
   "source": []
  },
  {
   "cell_type": "code",
   "execution_count": null,
   "metadata": {},
   "outputs": [],
   "source": []
  },
  {
   "cell_type": "code",
   "execution_count": null,
   "metadata": {},
   "outputs": [],
   "source": []
  },
  {
   "cell_type": "code",
   "execution_count": null,
   "metadata": {},
   "outputs": [],
   "source": []
  },
  {
   "cell_type": "code",
   "execution_count": null,
   "metadata": {},
   "outputs": [],
   "source": []
  },
  {
   "cell_type": "code",
   "execution_count": null,
   "metadata": {},
   "outputs": [],
   "source": []
  },
  {
   "cell_type": "code",
   "execution_count": null,
   "metadata": {},
   "outputs": [],
   "source": []
  },
  {
   "cell_type": "code",
   "execution_count": null,
   "metadata": {},
   "outputs": [],
   "source": []
  },
  {
   "cell_type": "code",
   "execution_count": null,
   "metadata": {},
   "outputs": [],
   "source": []
  },
  {
   "cell_type": "code",
   "execution_count": null,
   "metadata": {},
   "outputs": [],
   "source": []
  },
  {
   "cell_type": "code",
   "execution_count": null,
   "metadata": {},
   "outputs": [],
   "source": []
  },
  {
   "cell_type": "code",
   "execution_count": null,
   "metadata": {},
   "outputs": [],
   "source": []
  },
  {
   "cell_type": "code",
   "execution_count": null,
   "metadata": {},
   "outputs": [],
   "source": []
  },
  {
   "cell_type": "code",
   "execution_count": null,
   "metadata": {},
   "outputs": [],
   "source": []
  },
  {
   "cell_type": "code",
   "execution_count": null,
   "metadata": {},
   "outputs": [],
   "source": []
  },
  {
   "cell_type": "code",
   "execution_count": null,
   "metadata": {},
   "outputs": [],
   "source": []
  },
  {
   "cell_type": "code",
   "execution_count": null,
   "metadata": {},
   "outputs": [],
   "source": []
  },
  {
   "cell_type": "code",
   "execution_count": null,
   "metadata": {},
   "outputs": [],
   "source": []
  },
  {
   "cell_type": "code",
   "execution_count": null,
   "metadata": {},
   "outputs": [],
   "source": []
  },
  {
   "cell_type": "code",
   "execution_count": null,
   "metadata": {},
   "outputs": [],
   "source": []
  }
 ],
 "metadata": {
  "kernelspec": {
   "display_name": "Python 3 (ipykernel)",
   "language": "python",
   "name": "python3"
  },
  "language_info": {
   "codemirror_mode": {
    "name": "ipython",
    "version": 3
   },
   "file_extension": ".py",
   "mimetype": "text/x-python",
   "name": "python",
   "nbconvert_exporter": "python",
   "pygments_lexer": "ipython3",
   "version": "3.9.13"
  }
 },
 "nbformat": 4,
 "nbformat_minor": 4
}
