{
 "cells": [
  {
   "cell_type": "markdown",
   "metadata": {},
   "source": [
    "# Streamlit app dev and test\n",
    "\n",
    "Work through code for the streamlist app"
   ]
  },
  {
   "cell_type": "code",
   "execution_count": null,
   "metadata": {},
   "outputs": [],
   "source": [
    "__author__      = 'Roy Gardner'\n",
    "\n",
    "%run ./network_functions.py\n"
   ]
  },
  {
   "cell_type": "code",
   "execution_count": null,
   "metadata": {},
   "outputs": [],
   "source": []
  },
  {
   "cell_type": "markdown",
   "metadata": {},
   "source": [
    "## Load the agreement-actor data\n",
    "\n",
    "- Load data into a binary-valued relation matrix (BVRM) with agreements in rows and actors in columns\n",
    "- Matrix values are zero except where a relation between an agreement and an actor exists where the value is one\n",
    "- Apart from the matrix other data are extracted or computed\n",
    "- All data are stored in data_dict\n"
   ]
  },
  {
   "cell_type": "code",
   "execution_count": null,
   "metadata": {},
   "outputs": [],
   "source": [
    "\n",
    "data_path = './data/'\n",
    "nodes_file = 'node_table.csv'\n",
    "links_file = 'links_table.csv'\n",
    "agreements_dict = 'agreements_dict.json'\n",
    "\n",
    "data_dict = load_agreement_actor_data(nodes_file,links_file,agreements_dict,data_path)\n"
   ]
  },
  {
   "cell_type": "code",
   "execution_count": null,
   "metadata": {},
   "outputs": [],
   "source": []
  },
  {
   "cell_type": "markdown",
   "metadata": {},
   "source": [
    "## Get a peace process sub-matrix\n",
    "\n",
    "- Create the binary-valued relation matrix containing only the agreements and actors of a defined peace process.\n",
    "- Data are stored in pp_data_dict\n"
   ]
  },
  {
   "cell_type": "code",
   "execution_count": null,
   "metadata": {
    "scrolled": false
   },
   "outputs": [],
   "source": [
    "\n",
    "process_name = 'Bosnia peace process'\n",
    "#process_name = 'Yemen peace process'\n",
    "#process_name = 'Chad: Doha process'\n",
    "#process_name = 'DRC: Eastern DRC processes'\n",
    "\n",
    "\n",
    "pp_data_dict = get_peace_process_data(process_name,data_dict)\n",
    "pp_matrix = pp_data_dict['pp_matrix']\n",
    "\n",
    "plt.imshow(pp_matrix,cmap=plt.cm.Blues)\n",
    "plt.show()\n",
    "\n",
    "# Display graph\n",
    "adj_matrix,adj_vertices = adjacency_from_biadjacency(pp_data_dict)\n",
    "display_networkx_graph(adj_matrix,range(0,len(adj_vertices)),adj_vertices,data_dict)\n"
   ]
  },
  {
   "cell_type": "code",
   "execution_count": null,
   "metadata": {},
   "outputs": [],
   "source": []
  },
  {
   "cell_type": "markdown",
   "metadata": {},
   "source": [
    "## Extract values from data dictionaries"
   ]
  },
  {
   "cell_type": "code",
   "execution_count": null,
   "metadata": {},
   "outputs": [],
   "source": [
    "print(data_dict['vertices_dict']['CON_264'])\n",
    "print(pp_data_dict['pp_actor_ids'])"
   ]
  },
  {
   "cell_type": "code",
   "execution_count": null,
   "metadata": {},
   "outputs": [],
   "source": [
    "# Get actors in alpha order\n",
    "actor_options = [(vertex_id,data_dict['vertices_dict'][vertex_id][5]) for vertex_id in\\\n",
    "                 pp_data_dict['pp_actor_ids']]\n",
    "actor_options = sorted(actor_options,key=lambda t:t[1])\n",
    "actor_options = [t[0] + ': ' + t[1] for t in actor_options]\n",
    "\n",
    "# Get agreements in date order\n",
    "agreement_options = [(vertex_id,data_dict['vertices_dict'][vertex_id][5],data_dict['dates_dict'][vertex_id])\\\n",
    "                     for vertex_id in pp_data_dict['pp_agreement_ids']]\n",
    "agreement_options = sorted(agreement_options,key=lambda t:t[2])\n",
    "agreement_options = [t[0] + ': ' + t[1] for t in agreement_options]\n"
   ]
  },
  {
   "cell_type": "code",
   "execution_count": null,
   "metadata": {},
   "outputs": [],
   "source": []
  },
  {
   "cell_type": "markdown",
   "metadata": {},
   "source": [
    "## Query peace process networks"
   ]
  },
  {
   "cell_type": "markdown",
   "metadata": {},
   "source": [
    "### Query based on DFS in adjacency matrix\n",
    "\n",
    "Notes:\n",
    "- That depth 2 (and above) will yield the entire graph because the graph is bipartite.\n",
    "- Should be either/or with respect to entity type.\n"
   ]
  },
  {
   "cell_type": "code",
   "execution_count": null,
   "metadata": {
    "scrolled": false
   },
   "outputs": [],
   "source": [
    "\n",
    "# Convert a peace process BVRM to an adjacency matrix\n",
    "adj_matrix,adj_vertices = adjacency_from_biadjacency(pp_data_dict)\n",
    "\n",
    "query_vertices = ['CON_19','CON_20','CON_21']\n",
    "query_vertices = ['CON_20','CON_21']\n",
    "query_vertices = ['CON_4','ARM_460']\n",
    "#query_vertices = ['IGO_5','CON_20','CON_4']\n",
    "#query_vertices = ['AGT_2447']\n",
    "for vertex in query_vertices:\n",
    "    print(vertex,data_dict['vertices_dict'][vertex][5])\n",
    "print()\n",
    "\n",
    "query_indices = [adj_vertices.index(vertex) for vertex in query_vertices]\n",
    "query_matrix,found_indices = get_query_matrix(query_indices,adj_matrix,operator='OR')\n",
    "display_networkx_graph(query_matrix,found_indices,adj_vertices,data_dict)\n"
   ]
  },
  {
   "cell_type": "code",
   "execution_count": null,
   "metadata": {},
   "outputs": [],
   "source": []
  },
  {
   "cell_type": "markdown",
   "metadata": {},
   "source": [
    "## Actor engagements over time in peace process"
   ]
  },
  {
   "cell_type": "code",
   "execution_count": null,
   "metadata": {
    "scrolled": false
   },
   "outputs": [],
   "source": [
    "#print(data_dict['dates_dict'])\n",
    "\n",
    "#print(pp_data_dict['pp_agreement_ids'])\n",
    "pp_ag_ids = pp_data_dict['pp_agreement_ids']\n",
    "\n",
    "t_list = []\n",
    "for i,agreement_id in enumerate(pp_ag_ids):\n",
    "    if not agreement_id in data_dict['dates_dict']:\n",
    "        continue\n",
    "    ag_date = data_dict['dates_dict'][agreement_id]\n",
    "    t_list.append((i,ag_date))\n",
    "# Sort by date    \n",
    "t_list = sorted(t_list,key=lambda t:t[1])\n",
    "    \n",
    "# Build a time-order agreement-actor matrix\n",
    "ordered_matrix = []\n",
    "for t in t_list:\n",
    "    ordered_matrix.append(pp_data_dict['pp_matrix'][t[0]])\n",
    "    \n",
    "ordered_matrix = np.array(ordered_matrix)\n",
    "# Put actors in rows\n",
    "ordered_matrix = ordered_matrix.T\n",
    "\n",
    "# Now order actors by first appearance in process\n",
    "row_indices = []\n",
    "for i,row in enumerate(ordered_matrix):\n",
    "    where = np.where(row==1)\n",
    "    v = 0\n",
    "    if len(where[0]) > 0:\n",
    "        v = where[0][0]\n",
    "    row_indices.append((i,v))\n",
    "sorted_row_indices = [t[0] for t in sorted(row_indices,key=lambda t:t[1])]\n",
    "\n",
    "sorted_matrix = ordered_matrix[np.ix_(sorted_row_indices)]\n",
    "\n",
    "f = plt.figure(figsize=(16,8))\n",
    "for i,row in enumerate(sorted_matrix):\n",
    "    x = [j for j,x in enumerate(row) if x > 0]\n",
    "    y = [i]*len(x)\n",
    "    plt.scatter(x,y,alpha=0.9,linewidth=0.5,s=10)\n",
    "    plt.plot(x,y,alpha=0.9,linewidth=0.5)\n",
    "plt.xticks(fontsize='xx-large')    \n",
    "plt.yticks(fontsize='xx-large')    \n",
    "plt.ylabel('Actor index (in order of first appearance)',fontsize='xx-large')\n",
    "plt.xlabel('Agreement index in time order',fontsize='xx-large')\n",
    "plt.show()\n",
    "\n",
    "print(sorted_row_indices)\n",
    "print(data_dict['vertices_dict'][pp_data_dict['pp_actor_ids'][4]][5])\n"
   ]
  },
  {
   "cell_type": "code",
   "execution_count": null,
   "metadata": {},
   "outputs": [],
   "source": []
  },
  {
   "cell_type": "markdown",
   "metadata": {},
   "source": [
    "## Build an actor-year matrix"
   ]
  },
  {
   "cell_type": "code",
   "execution_count": null,
   "metadata": {},
   "outputs": [],
   "source": [
    "labels = [data_dict['vertices_dict'][v][5] for v in pp_data_dict['pp_actor_ids']]\n",
    "z = list(zip(range(0,len(labels)),labels))\n",
    "z = sorted(z,key=lambda t:t[1])\n",
    "\n",
    "# Get a sorted list of years\n",
    "\n",
    "pp_ag_ids = pp_data_dict['pp_agreement_ids']\n",
    "\n",
    "year_list = []\n",
    "for i,agreement_id in enumerate(pp_ag_ids):\n",
    "    if not agreement_id in data_dict['dates_dict']:\n",
    "        continue\n",
    "    ag_year = int(str(data_dict['dates_dict'][agreement_id])[0:4])\n",
    "    year_list.append(ag_year)\n",
    "# Sort by year    \n",
    "year_list = sorted(set(year_list))\n",
    "print(year_list)\n",
    "\n",
    "year_matrix = np.zeros((len(pp_data_dict['pp_actor_ids']),len(year_list)))\n",
    "\n",
    "matrix_t = pp_data_dict['pp_matrix'].T\n",
    "for i,row in enumerate(matrix_t):\n",
    "    for j,v in enumerate(row):\n",
    "        if v == 0:\n",
    "            continue\n",
    "        agreement_id = pp_data_dict['pp_agreement_ids'][j]\n",
    "        year = int(str(data_dict['dates_dict'][agreement_id])[0:4])\n",
    "        year_index = year_list.index(year)\n",
    "        year_matrix[i][year_index] += 1\n",
    "        \n",
    "# Get matrix in actor alpha order\n",
    "ordered_year_matrix = []\n",
    "for t in z:\n",
    "    ordered_year_matrix.append(year_matrix[t[0]])\n",
    "    \n",
    "ordered_year_matrix = np.array(ordered_year_matrix)\n",
    "        \n",
    "        \n",
    "fig = plt.figure(figsize=(16,16),layout=\"constrained\")\n",
    "plt.imshow(ordered_year_matrix,aspect='auto',cmap=plt.cm.Blues)\n",
    "plt.xticks(range(0,len(year_list)),year_list)\n",
    "plt.yticks(range(0,len(labels)),[t[1] for t in z])\n",
    "cbar = plt.colorbar()\n",
    "cbar.set_label('Signed in year',rotation=270,labelpad=15,fontsize='x-large')\n",
    "plt.show()\n"
   ]
  },
  {
   "cell_type": "code",
   "execution_count": null,
   "metadata": {},
   "outputs": [],
   "source": []
  },
  {
   "cell_type": "code",
   "execution_count": null,
   "metadata": {},
   "outputs": [],
   "source": []
  },
  {
   "cell_type": "markdown",
   "metadata": {},
   "source": [
    "## Compute co-occurence matrices\n",
    "\n",
    "Paths of length 2 between actors\n",
    "\n",
    "Use a peace process binary-valued relation matrix to compute co-occurences:\n",
    "- For a pair of actors, the number of agreements in common\n",
    "- For a pair of agreements, the number of actors in common\n"
   ]
  },
  {
   "cell_type": "code",
   "execution_count": null,
   "metadata": {},
   "outputs": [],
   "source": [
    "co_matrices = get_cooccurrence_matrices(pp_data_dict['pp_matrix'])\n",
    "actor_upper = np.triu(co_matrices[0],k=1)\n",
    "agreement_upper = np.triu(co_matrices[1],k=1)\n",
    "\n",
    "plt.imshow(actor_upper,cmap=plt.cm.Blues)\n",
    "cbar = plt.colorbar()\n",
    "cbar.set_label('Number of agreements',rotation=270,labelpad=15,fontsize='x-large')\n",
    "plt.show()\n",
    "\n",
    "plt.imshow(agreement_upper,cmap=plt.cm.Blues)\n",
    "cbar = plt.colorbar()\n",
    "cbar.set_label('Number of actors',rotation=270,labelpad=15,fontsize='x-large')\n",
    "plt.show()\n",
    "\n",
    "# Actors with max agreements between them\n",
    "indices = np.unravel_index(np.argmax(actor_upper,axis=None),actor_upper.shape)\n",
    "actors = [(pp_data_dict['pp_actor_ids'][index],\\\n",
    "           data_dict['vertices_dict'][pp_data_dict['pp_actor_ids'][index]][5]) for index in indices]\n",
    "s = actors[0][1] + ' (' + actors[0][0] + ') and ' + actors[1][1] + ' (' + actors[1][0] + ')'\n",
    "print('Actors who are co-signatories to the greatest number of agreements:',s)\n",
    "print('Number of agreements:',actor_upper[indices])\n",
    "print()\n",
    "\n",
    "# Agreements with max actors between them\n",
    "indices = np.unravel_index(np.argmax(agreement_upper,axis=None),agreement_upper.shape)\n",
    "agreements = [(pp_data_dict['pp_agreement_ids'][index],\\\n",
    "               data_dict['vertices_dict'][pp_data_dict['pp_agreement_ids'][index]][5]) for index in indices]\n",
    "s = agreements[0][1] + ' (' + agreements[0][0] + ') and ' + agreements[1][1] + ' (' + agreements[1][0] + ')'\n",
    "print('Agreements with the greatest number of co-signatories:',s)\n",
    "print('Number of co-signatories:',agreement_upper[indices])\n",
    "print()\n",
    "\n"
   ]
  },
  {
   "cell_type": "code",
   "execution_count": null,
   "metadata": {},
   "outputs": [],
   "source": [
    "print(data_dict['nodes_header'])"
   ]
  },
  {
   "cell_type": "markdown",
   "metadata": {},
   "source": [
    "## Retrieving co-occurrence entities\n"
   ]
  },
  {
   "cell_type": "code",
   "execution_count": null,
   "metadata": {
    "scrolled": false
   },
   "outputs": [],
   "source": [
    "\n",
    "actor = 'CON_4'\n",
    "print('Agreements signed by',actor,get_actor_name(actor,data_dict))\n",
    "agreements = get_agreements(actor,pp_data_dict)\n",
    "tuples = [(agreement,get_agreement_name(agreement,data_dict)) for agreement in agreements]\n",
    "tuples = sorted(tuples,key=lambda t:t[1])\n",
    "for t in tuples:\n",
    "    print(t[0],t[1])\n",
    "print()\n",
    "\n",
    "print('Cosignatories of',actor,get_actor_name(actor,data_dict))\n",
    "cosigns = get_consignatories(actor,pp_data_dict)\n",
    "tuples = [(cosign,get_actor_name(cosign,data_dict)) for cosign in cosigns]\n",
    "tuples = sorted(tuples,key=lambda t:t[1])\n",
    "for t in tuples:\n",
    "    print(t[0],t[1])\n",
    "print()\n",
    "\n",
    "print('Cosignatories of',actor,'organised by agreement')\n",
    "agreement_cosign_dict = {}\n",
    "for cosign in cosigns:\n",
    "    agreements = get_consignatory_agreements([actor,cosign],pp_data_dict)\n",
    "    for agreement in agreements:\n",
    "        if agreement in agreement_cosign_dict:\n",
    "            agreement_cosign_dict[agreement].append((cosign,get_actor_name(cosign,data_dict)))\n",
    "        else:\n",
    "            agreement_cosign_dict[agreement] = [(cosign,get_actor_name(cosign,data_dict))]\n",
    "for agreement,actors in agreement_cosign_dict.items():\n",
    "    print(agreement,get_agreement_name(agreement,data_dict))\n",
    "    print(actors)\n",
    "    print()\n",
    "print()\n",
    "\n",
    "agreement = 'AGT_1624'\n",
    "print('Signatories of agreement',agreement)\n",
    "print(get_actors(agreement,pp_data_dict))\n",
    "print()\n",
    "\n",
    "print('Agreements with signatories in common with',agreement)\n",
    "coagrees = get_coagreements(agreement,pp_data_dict)\n",
    "print(coagrees)    \n",
    "print()\n",
    "\n",
    "print('Agreements with signatories in common with',agreement,'organised by cosignatory')\n",
    "cosign_agreement_dict = {}\n",
    "for coagree in coagrees:\n",
    "    cosignatories = get_agreement_cosignatories([agreement,coagree],pp_data_dict)\n",
    "    for cosign in cosignatories:\n",
    "        if cosign in cosign_agreement_dict:\n",
    "            cosign_agreement_dict[cosign].append(coagree)\n",
    "        else:\n",
    "            cosign_agreement_dict[cosign] = [coagree]\n",
    "for cosign,agreements in cosign_agreement_dict.items():\n",
    "    print(cosign)\n",
    "    print(agreements)\n",
    "    print()\n",
    "print()\n",
    "\n"
   ]
  },
  {
   "cell_type": "code",
   "execution_count": null,
   "metadata": {},
   "outputs": [],
   "source": []
  },
  {
   "cell_type": "code",
   "execution_count": null,
   "metadata": {},
   "outputs": [],
   "source": [
    "\n",
    "co_matrices = get_cooccurrence_matrices(pp_data_dict['pp_matrix'])\n",
    "#print(list(co_matrices[0]))\n",
    "\n",
    "# Find agreements that a pair of actors have in common\n",
    "# Define indices for a pair of actors\n",
    "\n",
    "actors = ['CON_20','CON_21']\n",
    "actor_indices = [pp_data_dict['pp_actor_ids'].index(actor_id) for actor_id in actors]\n",
    "\n",
    "# Number in co-occurrence cell\n",
    "print(co_matrices[0][actor_indices[0]][actor_indices[1]])\n",
    "\n",
    "# Get the row from the transpose of pp matrix\n",
    "row1 = pp_data_dict['pp_matrix'].T[actor_indices[0]]\n",
    "# Get the row from the pp matrix\n",
    "row2 = pp_data_dict['pp_matrix'].T[actor_indices[1]]\n",
    "\n",
    "\n",
    "x = np.bitwise_and(row1,row2)\n",
    "\n",
    "\n",
    "#print(len(x)) # The number of agreements\n",
    "\n",
    "for index,value in enumerate(x): \n",
    "    if value == 1:\n",
    "        print(pp_data_dict['pp_agreement_ids'][index],\\\n",
    "              data_dict['vertices_dict'][pp_data_dict['pp_agreement_ids'][index]][5])\n"
   ]
  },
  {
   "cell_type": "code",
   "execution_count": null,
   "metadata": {},
   "outputs": [],
   "source": []
  },
  {
   "cell_type": "code",
   "execution_count": null,
   "metadata": {},
   "outputs": [],
   "source": []
  },
  {
   "cell_type": "markdown",
   "metadata": {},
   "source": [
    "## Paths of length 4 \n",
    "\n",
    "Bipartite equivalent of friend-of-a-friend. A path 4 between two actors who are not cosignatories, means there's another actor who is a cosignatory to the agreements of both actors. Therefore the mediating actor is a cosignatory with both path 4 actors, i.e., the intersection of the actor cosignatory sets.\n"
   ]
  },
  {
   "cell_type": "code",
   "execution_count": null,
   "metadata": {},
   "outputs": [],
   "source": [
    "co_matrices = get_cooccurrence_matrices(pp_data_dict['pp_matrix'])\n",
    "\n",
    "actor_2_paths = co_matrices[0]\n",
    "actor_4_paths = np.linalg.matrix_power(actor_2_paths,2)\n",
    "\n",
    "actor_2_paths[actor_2_paths != 0] = 1\n",
    "actor_4_paths[actor_4_paths != 0] = 1\n",
    "\n",
    "co_matrices = get_cooccurrence_matrices(pp_data_dict['pp_matrix'])\n",
    "# Remove all actors with a path 2 \n",
    "U = np.linalg.matrix_power(co_matrices[0],2) * np.bitwise_xor(actor_2_paths,actor_4_paths)\n",
    "\n",
    "upper = np.triu(U,k=1)\n",
    "plt.imshow(upper,cmap=plt.cm.Blues)\n",
    "cbar = plt.colorbar()\n",
    "cbar.set_label('Number of actors',rotation=270,labelpad=15,fontsize='x-large')\n",
    "plt.show()\n",
    "\n",
    "print(np.argmax(upper,axis=None))\n",
    "actor_indices = np.unravel_index(np.argmax(upper,axis=None),upper.shape)\n",
    "actors = [(pp_data_dict['pp_actor_ids'][index],\\\n",
    "           data_dict['vertices_dict'][pp_data_dict['pp_actor_ids'][index]][5]) for index in actor_indices]\n",
    "print(actors)\n",
    "\n",
    "cosigns1 = get_consignatories('CON_1',pp_data_dict)\n",
    "print(sorted(cosigns1))\n",
    "print()\n",
    "\n",
    "cosigns2 = get_consignatories('ARM_460',pp_data_dict)\n",
    "print(sorted(cosigns2))\n",
    "print()\n",
    "\n",
    "print(sorted(list(set(cosigns1).intersection(cosigns2))))\n"
   ]
  },
  {
   "cell_type": "code",
   "execution_count": null,
   "metadata": {},
   "outputs": [],
   "source": []
  },
  {
   "cell_type": "code",
   "execution_count": null,
   "metadata": {},
   "outputs": [],
   "source": []
  },
  {
   "cell_type": "markdown",
   "metadata": {},
   "source": [
    "## Actor diagonal by stage"
   ]
  },
  {
   "cell_type": "code",
   "execution_count": null,
   "metadata": {},
   "outputs": [],
   "source": [
    "stage_dict = {}\n",
    "stage_dict['Cea'] = [1,'Ceasefire related']\n",
    "stage_dict['Pre'] = [2,'Pre-negotiation process']\n",
    "stage_dict['SubPar'] = [3,'Partial Framework - substantive']\n",
    "stage_dict['SubComp'] = [4,'Comprehensive Framework - substantive']\n",
    "stage_dict['Ren'] = [5,'Implementation Renegotiation/Renewal']\n",
    "stage_dict['Imp'] = [5,'Implementation Renegotiation/Renewal']\n",
    "stage_dict['Oth'] = [0,'']\n",
    "\n",
    "# Map agreements on to stages\n",
    "stage_map = {}\n",
    "for i,agreement_id in enumerate(pp_data_dict['pp_agreement_ids']):\n",
    "    ss_id = agreement_id.split('_')[1]\n",
    "    if ss_id in data_dict['agreements_dict']:\n",
    "        stage_map[i] = stage_dict[data_dict['agreements_dict'][ss_id]['Stage']][0]\n",
    "    else:\n",
    "        stage_map[i] = 0\n",
    "    \n",
    "print(len(stage_map))\n",
    "print(len(pp_data_dict['pp_agreement_ids']))\n",
    "\n",
    "print(len([v for _,v in stage_map.items() if v == 0]))\n"
   ]
  },
  {
   "cell_type": "code",
   "execution_count": null,
   "metadata": {},
   "outputs": [],
   "source": []
  },
  {
   "cell_type": "code",
   "execution_count": null,
   "metadata": {
    "scrolled": false
   },
   "outputs": [],
   "source": [
    "\n",
    "co_matrices = get_cooccurrence_matrices(pp_data_dict['pp_matrix'])\n",
    "actor_diag = np.diag(co_matrices[0])\n",
    "\n",
    "# Plot\n",
    "\n",
    "labels = [data_dict['vertices_dict'][v][5] for v in pp_data_dict['pp_actor_ids']]\n",
    "z = list(zip(labels,actor_diag))\n",
    "z = sorted(z,key=lambda t:t[1])\n",
    "values = [t[1] for t in z]\n",
    "        \n",
    "        \n",
    "fig = plt.figure(figsize=(16,16),layout=\"constrained\")\n",
    "\n",
    "gs = GridSpec(1, 6, figure=fig)\n",
    "ax1 = fig.add_subplot(gs[0,0])\n",
    "ax1.barh(range(0,len(actor_diag)),values)\n",
    "ax1.set_yticks(range(0,len(actor_diag)),[t[0] for t in z],fontsize='large')\n",
    "ax1.set_xlim(0,max(values)+5)\n",
    "ax1.margins(y=0)\n",
    "ax1.set_title('All Stages',fontsize='xx-large')\n",
    "\n",
    "print(z)\n",
    "print()\n",
    "\n",
    "stage_levels = [1,2,3,4,5]\n",
    "for i,stage_level in enumerate(stage_levels):\n",
    "    stage_agreement_indices = [k for k,v in stage_map.items() if v == stage_level]\n",
    "\n",
    "    stage_matrix = pp_data_dict['pp_matrix'][np.ix_(stage_agreement_indices)]\n",
    "\n",
    "    co_matrices = get_cooccurrence_matrices(stage_matrix)\n",
    "    \n",
    "    # Same order as all agreements so y-axes are consistent\n",
    "    actor_diag = np.diag(co_matrices[0])\n",
    "    x = list(zip(labels,actor_diag))\n",
    "    x = sorted(x,key=lambda t:[g[0] for g in z].index(t[0]))\n",
    "    #print(x)\n",
    "    print()\n",
    "    \n",
    "    ax = fig.add_subplot(gs[0,i+1])\n",
    "    ax.barh(range(0,len(actor_diag)),[t[1] for t in x])\n",
    "\n",
    "    ax.set_yticks([],[])\n",
    "    ax.set_xlim(0,max(values)+5)\n",
    "    ax.margins(y=0)\n",
    "    ax.set_title('Level ' + str(stage_level),fontsize='xx-large')\n",
    "\n",
    "\n",
    "fig.suptitle('Actor Signatory Counts by Agreement Stage',fontsize='xx-large')\n",
    "\n",
    "plt.show()"
   ]
  },
  {
   "cell_type": "code",
   "execution_count": null,
   "metadata": {},
   "outputs": [],
   "source": []
  },
  {
   "cell_type": "code",
   "execution_count": null,
   "metadata": {
    "scrolled": false
   },
   "outputs": [],
   "source": [
    "co_matrices = get_cooccurrence_matrices(pp_data_dict['pp_matrix'])\n",
    "actor_diag = np.diag(co_matrices[0])\n",
    "\n",
    "# Plot\n",
    "\n",
    "labels = [data_dict['vertices_dict'][v][5] for v in pp_data_dict['pp_actor_ids']]\n",
    "z = list(zip(labels,actor_diag))\n",
    "z = sorted(z,key=lambda t:t[1])\n",
    "print(len(z))\n",
    "\n",
    "f = plt.figure(figsize=(8,32))\n",
    "plt.barh(range(0,len(actor_diag)),[t[1] for t in z])\n",
    "plt.yticks(range(0,len(actor_diag)),[t[0] for t in z],fontsize='large')\n",
    "plt.xlabel('Number of agreements to which actor is signatory')\n",
    "plt.show()\n"
   ]
  },
  {
   "cell_type": "code",
   "execution_count": null,
   "metadata": {},
   "outputs": [],
   "source": []
  },
  {
   "cell_type": "markdown",
   "metadata": {},
   "source": [
    "## Build process-actor matrix"
   ]
  },
  {
   "cell_type": "code",
   "execution_count": null,
   "metadata": {
    "scrolled": false
   },
   "outputs": [],
   "source": [
    "# Build a peace process-actor matrix\n",
    "\n",
    "data_path = './data/'\n",
    "nodes_file = 'node_table.csv'\n",
    "links_file = 'links_table.csv'\n",
    "agreements_dict = 'agreements_dict.json'\n",
    "\n",
    "data_dict = load_agreement_actor_data(nodes_file,links_file,agreements_dict,data_path)\n",
    "\n",
    "# Get list of peace processes\n",
    "processes = get_peace_processes(data_dict)\n",
    "\n",
    "\n",
    "process_matrix = np.zeros((len(processes),len(data_dict['actor_vertices'])), dtype=int)\n",
    "\n",
    "for i,process_name in enumerate(processes):\n",
    "    process_data = get_peace_process_data(process_name,data_dict)\n",
    "    actor_marginal = [sum(row) for row in process_data['pp_matrix'].T]\n",
    "    actor_indices = [data_dict['actor_vertices'].index(actor_id) for actor_id in process_data['pp_actor_ids']]\n",
    "    for j,v in enumerate(actor_marginal):\n",
    "        if v > 0:\n",
    "            process_matrix[i][actor_indices[j]] = 1\n",
    "\n",
    "plt.imshow(process_matrix,cmap=plt.cm.Blues,aspect='auto')\n",
    "\n",
    "proc_co = get_cooccurrence_matrices(process_matrix)\n",
    "\n"
   ]
  },
  {
   "cell_type": "code",
   "execution_count": null,
   "metadata": {},
   "outputs": [],
   "source": []
  },
  {
   "cell_type": "code",
   "execution_count": null,
   "metadata": {
    "scrolled": false
   },
   "outputs": [],
   "source": [
    "\n",
    "\n",
    "data_path = './data/'\n",
    "nodes_file = 'node_table.csv'\n",
    "links_file = 'links_table.csv'\n",
    "agreements_dict = 'agreements_dict.json'\n",
    "\n",
    "data_dict = load_agreement_actor_data(nodes_file,links_file,agreements_dict,data_path)\n",
    "matrix = data_dict['matrix']\n",
    "\n",
    "\n",
    "# Matrix plot routines\n",
    "print(matrix.shape)\n",
    "f = plt.figure(figsize=(32,32))\n",
    "plt.imshow(complete_matrix,aspect='auto')\n",
    "plt.show()\n",
    "\n",
    "# Get the column marginals\n",
    "col_marginals = []\n",
    "for row in complete_matrix.T:\n",
    "    col_marginals.append(sum(row))\n",
    "\n",
    "\n",
    "plt.plot(range(0,len(col_marginals)),col_marginals)\n",
    "plt.show()\n",
    "\n",
    "max_i = col_marginals.index(max(col_marginals))\n",
    "max_actor = to_vertices[max_i]\n",
    "print(max_actor,vertices_dict[max_actor][5])\n"
   ]
  },
  {
   "cell_type": "code",
   "execution_count": null,
   "metadata": {},
   "outputs": [],
   "source": [
    "x = np.argsort(col_marginals)[::-1][:5]\n",
    "print(\"Indices:\",x)\n"
   ]
  },
  {
   "cell_type": "code",
   "execution_count": null,
   "metadata": {},
   "outputs": [],
   "source": []
  }
 ],
 "metadata": {
  "kernelspec": {
   "display_name": "Python 3 (ipykernel)",
   "language": "python",
   "name": "python3"
  },
  "language_info": {
   "codemirror_mode": {
    "name": "ipython",
    "version": 3
   },
   "file_extension": ".py",
   "mimetype": "text/x-python",
   "name": "python",
   "nbconvert_exporter": "python",
   "pygments_lexer": "ipython3",
   "version": "3.9.13"
  }
 },
 "nbformat": 4,
 "nbformat_minor": 4
}
